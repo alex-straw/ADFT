{
 "cells": [
  {
   "cell_type": "markdown",
   "metadata": {},
   "source": [
    "# Feature Engineering and Time Series Feature Generation\n",
    "\n",
    "### 08th Februry 2022 created by Yan Ge\n"
   ]
  },
  {
   "cell_type": "markdown",
   "metadata": {},
   "source": [
    "In this Notebook, we will focus on:1) Time-series feature generation; 2) Feature generation with machine learning: case study of financial marketing with recommender systems"
   ]
  },
  {
   "cell_type": "markdown",
   "metadata": {},
   "source": [
    "Sources of this tutorial: 1). https://machinelearningmastery.com/basic-feature-engineering-time-series-data-python/; 2) https://github.com/Apress/hands-on-time-series-analylsis-python"
   ]
  },
  {
   "cell_type": "markdown",
   "metadata": {},
   "source": [
    "# Time Series Feature Generation"
   ]
  },
  {
   "cell_type": "markdown",
   "metadata": {},
   "source": [
    "In this part, we will use a daily stock price of Apple.Inc (one year: from 28/Dec/2020 to 27/Dec/2021), which is derived from Yahoo Finance. First, the time series is loaded as a Pandas Series. We then create a new Pandas DataFrame for the transformed dataset. Next, each column is added one at a time where month and day information is extracted from the time-stamp information for each observation in the series. Below is the Python code to do this."
   ]
  },
  {
   "cell_type": "code",
   "execution_count": 1,
   "metadata": {},
   "outputs": [
    {
     "name": "stdout",
     "output_type": "stream",
     "text": [
      "    month  day       price\n",
      "0      12   28  133.990005\n",
      "1      12   29  138.050003\n",
      "2      12   30  135.580002\n",
      "3      12   31  134.080002\n",
      "4       4    1  133.520004\n",
      "5       5    1  128.889999\n",
      "6       6    1  127.720001\n",
      "7       7    1  128.360001\n",
      "8       8    1  132.429993\n",
      "9      11    1  129.190002\n",
      "10     12    1  128.500000\n",
      "11      1   13  128.759995\n",
      "12      1   14  130.800003\n",
      "13      1   15  128.779999\n",
      "14      1   19  127.779999\n"
     ]
    }
   ],
   "source": [
    "# create date time features of a dataset\n",
    "from pandas import read_csv\n",
    "from pandas import DataFrame\n",
    "series = read_csv('data/AAPL.csv', header=0, index_col=0, parse_dates=True, squeeze=True)\n",
    "dataframe = DataFrame()\n",
    "dataframe['month'] = [series.index[i].month for i in range(len(series))]\n",
    "dataframe['day'] = [series.index[i].day for i in range(len(series))]\n",
    "dataframe['price'] = [series[i] for i in range(len(series))]\n",
    "print(dataframe.head(15))"
   ]
  },
  {
   "cell_type": "markdown",
   "metadata": {},
   "source": [
    "### Lag feature"
   ]
  },
  {
   "cell_type": "markdown",
   "metadata": {},
   "source": [
    "Lag features are the classical way that time series forecasting problems are transformed into supervised learning problems. The simplest approach is to predict the value at the next time (t+1) given the value at the previous time (t-1). The supervised learning problem with shifted values looks as follows:"
   ]
  },
  {
   "cell_type": "markdown",
   "metadata": {},
   "source": [
    "Value(t-1), Value(t+1)\n",
    "\n",
    "Value(t-1), Value(t+1)\n",
    "\n",
    "Value(t-1), Value(t+1)"
   ]
  },
  {
   "cell_type": "markdown",
   "metadata": {},
   "source": [
    "The Pandas library provides the shift() function to help create these shifted or lag features from a time series dataset. Note that: in this tutorial, shifting the dataset by 1 creates the t-1 column, adding a NaN (unknown) value for the first row. The time series dataset without a shift represents the t+1"
   ]
  },
  {
   "cell_type": "markdown",
   "metadata": {},
   "source": [
    "Below is an example of creating a lag feature for our daily stock price dataset. The values are extracted from the loaded series and a shifted and unshifted list of these values is created. Each column is also named in the DataFrame for clarity."
   ]
  },
  {
   "cell_type": "code",
   "execution_count": 2,
   "metadata": {},
   "outputs": [
    {
     "data": {
      "text/html": [
       "<div>\n",
       "<style scoped>\n",
       "    .dataframe tbody tr th:only-of-type {\n",
       "        vertical-align: middle;\n",
       "    }\n",
       "\n",
       "    .dataframe tbody tr th {\n",
       "        vertical-align: top;\n",
       "    }\n",
       "\n",
       "    .dataframe thead th {\n",
       "        text-align: right;\n",
       "    }\n",
       "</style>\n",
       "<table border=\"1\" class=\"dataframe\">\n",
       "  <thead>\n",
       "    <tr style=\"text-align: right;\">\n",
       "      <th></th>\n",
       "      <th>t</th>\n",
       "      <th>t-1</th>\n",
       "      <th>t-2</th>\n",
       "      <th>t-3</th>\n",
       "    </tr>\n",
       "  </thead>\n",
       "  <tbody>\n",
       "    <tr>\n",
       "      <th>0</th>\n",
       "      <td>133.990005</td>\n",
       "      <td>NaN</td>\n",
       "      <td>NaN</td>\n",
       "      <td>NaN</td>\n",
       "    </tr>\n",
       "    <tr>\n",
       "      <th>1</th>\n",
       "      <td>138.050003</td>\n",
       "      <td>133.990005</td>\n",
       "      <td>NaN</td>\n",
       "      <td>NaN</td>\n",
       "    </tr>\n",
       "    <tr>\n",
       "      <th>2</th>\n",
       "      <td>135.580002</td>\n",
       "      <td>138.050003</td>\n",
       "      <td>133.990005</td>\n",
       "      <td>NaN</td>\n",
       "    </tr>\n",
       "    <tr>\n",
       "      <th>3</th>\n",
       "      <td>134.080002</td>\n",
       "      <td>135.580002</td>\n",
       "      <td>138.050003</td>\n",
       "      <td>133.990005</td>\n",
       "    </tr>\n",
       "    <tr>\n",
       "      <th>4</th>\n",
       "      <td>133.520004</td>\n",
       "      <td>134.080002</td>\n",
       "      <td>135.580002</td>\n",
       "      <td>138.050003</td>\n",
       "    </tr>\n",
       "  </tbody>\n",
       "</table>\n",
       "</div>"
      ],
      "text/plain": [
       "            t         t-1         t-2         t-3\n",
       "0  133.990005         NaN         NaN         NaN\n",
       "1  138.050003  133.990005         NaN         NaN\n",
       "2  135.580002  138.050003  133.990005         NaN\n",
       "3  134.080002  135.580002  138.050003  133.990005\n",
       "4  133.520004  134.080002  135.580002  138.050003"
      ]
     },
     "execution_count": 2,
     "metadata": {},
     "output_type": "execute_result"
    }
   ],
   "source": [
    "import pandas as pd\n",
    "series = read_csv('data/AAPL.csv', header=0, index_col=0)\n",
    "df = pd.DataFrame()\n",
    "\n",
    "df['t'] = series['Open'].values\n",
    "df['t-1'] = df['t'].shift(1)\n",
    "df['t-2'] = df['t'].shift(2)\n",
    "df['t-3'] = df['t'].shift(3)\n",
    "\n",
    "df.head(5)"
   ]
  },
  {
   "cell_type": "code",
   "execution_count": 3,
   "metadata": {},
   "outputs": [],
   "source": [
    "# shift operation with 1 lag"
   ]
  },
  {
   "cell_type": "code",
   "execution_count": 4,
   "metadata": {},
   "outputs": [
    {
     "name": "stdout",
     "output_type": "stream",
     "text": [
      "          t-3         t-2         t-1           t\n",
      "3  133.990005  138.050003  135.580002  134.080002\n",
      "4  138.050003  135.580002  134.080002  133.520004\n",
      "5  135.580002  134.080002  133.520004  128.889999\n",
      "6  134.080002  133.520004  128.889999  127.720001\n",
      "7  133.520004  128.889999  127.720001  128.360001\n"
     ]
    }
   ],
   "source": [
    "\n",
    "df = df[['t-3', 't-2', 't-1', 't']]\n",
    "\n",
    "df = df[3:]\n",
    "\n",
    "print(df.head(5))"
   ]
  },
  {
   "cell_type": "markdown",
   "metadata": {},
   "source": [
    "You can see that we would have to discard the first row to use the dataset to train a supervised learning model, as it does not contain enough data to work with."
   ]
  },
  {
   "cell_type": "markdown",
   "metadata": {},
   "source": [
    "The addition of lag features is called the sliding window method, in this case with a window width of 1. It is as though we are sliding our focus along the time series for each observation with an interest in only what is within the window width."
   ]
  },
  {
   "cell_type": "markdown",
   "metadata": {},
   "source": [
    "We can expand the window width and include more lagged features. For example, below is the above case modified to include the last 3 observed values to predict the value at the next time step."
   ]
  },
  {
   "cell_type": "markdown",
   "metadata": {},
   "source": [
    "Again, you can see that we must discard the first few rows that do not have enough data to train a supervised model. A difficulty with the sliding window approach is how large to make the window for your problem. Perhaps a good starting point is to perform a sensitivity analysis and try a suite of different window widths to in turn create a suite of different “views” of your dataset and see which results in better performing models. "
   ]
  },
  {
   "cell_type": "markdown",
   "metadata": {},
   "source": [
    "### Rolling Window Statistics"
   ]
  },
  {
   "cell_type": "markdown",
   "metadata": {},
   "source": [
    "A step beyond adding raw lagged values is to add a summary of the values at previous time steps. We can calculate summary statistics across the values in the sliding window and include these as features in our dataset. Perhaps the most useful is the mean of the previous few values, also called the rolling mean. For example, we can calculate the mean of the previous two values and use that to predict the next value. "
   ]
  },
  {
   "cell_type": "markdown",
   "metadata": {},
   "source": [
    "The first thing we need to do is shifted. Then the rolling dataset can be created and the mean values calculated on each window of two values."
   ]
  },
  {
   "cell_type": "code",
   "execution_count": 5,
   "metadata": {},
   "outputs": [
    {
     "data": {
      "text/html": [
       "<div>\n",
       "<style scoped>\n",
       "    .dataframe tbody tr th:only-of-type {\n",
       "        vertical-align: middle;\n",
       "    }\n",
       "\n",
       "    .dataframe tbody tr th {\n",
       "        vertical-align: top;\n",
       "    }\n",
       "\n",
       "    .dataframe thead th {\n",
       "        text-align: right;\n",
       "    }\n",
       "</style>\n",
       "<table border=\"1\" class=\"dataframe\">\n",
       "  <thead>\n",
       "    <tr style=\"text-align: right;\">\n",
       "      <th></th>\n",
       "      <th>5 day moving</th>\n",
       "      <th>t+1</th>\n",
       "    </tr>\n",
       "  </thead>\n",
       "  <tbody>\n",
       "    <tr>\n",
       "      <th>0</th>\n",
       "      <td>NaN</td>\n",
       "      <td>133.990005</td>\n",
       "    </tr>\n",
       "    <tr>\n",
       "      <th>1</th>\n",
       "      <td>NaN</td>\n",
       "      <td>138.050003</td>\n",
       "    </tr>\n",
       "    <tr>\n",
       "      <th>2</th>\n",
       "      <td>NaN</td>\n",
       "      <td>135.580002</td>\n",
       "    </tr>\n",
       "    <tr>\n",
       "      <th>3</th>\n",
       "      <td>NaN</td>\n",
       "      <td>134.080002</td>\n",
       "    </tr>\n",
       "    <tr>\n",
       "      <th>4</th>\n",
       "      <td>NaN</td>\n",
       "      <td>133.520004</td>\n",
       "    </tr>\n",
       "    <tr>\n",
       "      <th>5</th>\n",
       "      <td>135.044003</td>\n",
       "      <td>128.889999</td>\n",
       "    </tr>\n",
       "    <tr>\n",
       "      <th>6</th>\n",
       "      <td>134.024002</td>\n",
       "      <td>127.720001</td>\n",
       "    </tr>\n",
       "    <tr>\n",
       "      <th>7</th>\n",
       "      <td>131.958002</td>\n",
       "      <td>128.360001</td>\n",
       "    </tr>\n",
       "    <tr>\n",
       "      <th>8</th>\n",
       "      <td>130.514001</td>\n",
       "      <td>132.429993</td>\n",
       "    </tr>\n",
       "    <tr>\n",
       "      <th>9</th>\n",
       "      <td>130.184000</td>\n",
       "      <td>129.190002</td>\n",
       "    </tr>\n",
       "  </tbody>\n",
       "</table>\n",
       "</div>"
      ],
      "text/plain": [
       "   5 day moving         t+1\n",
       "0           NaN  133.990005\n",
       "1           NaN  138.050003\n",
       "2           NaN  135.580002\n",
       "3           NaN  134.080002\n",
       "4           NaN  133.520004\n",
       "5    135.044003  128.889999\n",
       "6    134.024002  127.720001\n",
       "7    131.958002  128.360001\n",
       "8    130.514001  132.429993\n",
       "9    130.184000  129.190002"
      ]
     },
     "execution_count": 5,
     "metadata": {},
     "output_type": "execute_result"
    }
   ],
   "source": [
    "from pandas import read_csv\n",
    "from pandas import DataFrame\n",
    "from pandas import concat\n",
    "series = read_csv('data/AAPL.csv', header=0, index_col=0)\n",
    "temps = DataFrame(series.values)\n",
    "shifted = temps.shift(1)\n",
    "\n",
    "window = shifted.rolling(window=5)\n",
    "means = window.mean()\n",
    "\n",
    "df = concat([means, temps], axis=1)\n",
    "df.columns = ['5 day moving', 't+1']\n",
    "\n",
    "df.head(10)"
   ]
  },
  {
   "cell_type": "markdown",
   "metadata": {},
   "source": [
    "### Expanding Window Statistics"
   ]
  },
  {
   "cell_type": "code",
   "execution_count": 6,
   "metadata": {},
   "outputs": [
    {
     "data": {
      "text/html": [
       "<div>\n",
       "<style scoped>\n",
       "    .dataframe tbody tr th:only-of-type {\n",
       "        vertical-align: middle;\n",
       "    }\n",
       "\n",
       "    .dataframe tbody tr th {\n",
       "        vertical-align: top;\n",
       "    }\n",
       "\n",
       "    .dataframe thead th {\n",
       "        text-align: right;\n",
       "    }\n",
       "</style>\n",
       "<table border=\"1\" class=\"dataframe\">\n",
       "  <thead>\n",
       "    <tr style=\"text-align: right;\">\n",
       "      <th></th>\n",
       "      <th>5 day moving</th>\n",
       "      <th>t+1</th>\n",
       "      <th>max</th>\n",
       "      <th>min</th>\n",
       "      <th>mean</th>\n",
       "    </tr>\n",
       "  </thead>\n",
       "  <tbody>\n",
       "    <tr>\n",
       "      <th>0</th>\n",
       "      <td>NaN</td>\n",
       "      <td>133.990005</td>\n",
       "      <td>133.990005</td>\n",
       "      <td>133.990005</td>\n",
       "      <td>133.990005</td>\n",
       "    </tr>\n",
       "    <tr>\n",
       "      <th>1</th>\n",
       "      <td>NaN</td>\n",
       "      <td>138.050003</td>\n",
       "      <td>138.050003</td>\n",
       "      <td>133.990005</td>\n",
       "      <td>136.020004</td>\n",
       "    </tr>\n",
       "    <tr>\n",
       "      <th>2</th>\n",
       "      <td>NaN</td>\n",
       "      <td>135.580002</td>\n",
       "      <td>138.050003</td>\n",
       "      <td>133.990005</td>\n",
       "      <td>135.873337</td>\n",
       "    </tr>\n",
       "    <tr>\n",
       "      <th>3</th>\n",
       "      <td>NaN</td>\n",
       "      <td>134.080002</td>\n",
       "      <td>138.050003</td>\n",
       "      <td>133.990005</td>\n",
       "      <td>135.425003</td>\n",
       "    </tr>\n",
       "    <tr>\n",
       "      <th>4</th>\n",
       "      <td>NaN</td>\n",
       "      <td>133.520004</td>\n",
       "      <td>138.050003</td>\n",
       "      <td>133.520004</td>\n",
       "      <td>135.044003</td>\n",
       "    </tr>\n",
       "    <tr>\n",
       "      <th>5</th>\n",
       "      <td>135.044003</td>\n",
       "      <td>128.889999</td>\n",
       "      <td>138.050003</td>\n",
       "      <td>128.889999</td>\n",
       "      <td>134.018336</td>\n",
       "    </tr>\n",
       "    <tr>\n",
       "      <th>6</th>\n",
       "      <td>134.024002</td>\n",
       "      <td>127.720001</td>\n",
       "      <td>138.050003</td>\n",
       "      <td>127.720001</td>\n",
       "      <td>133.118574</td>\n",
       "    </tr>\n",
       "    <tr>\n",
       "      <th>7</th>\n",
       "      <td>131.958002</td>\n",
       "      <td>128.360001</td>\n",
       "      <td>138.050003</td>\n",
       "      <td>127.720001</td>\n",
       "      <td>132.523752</td>\n",
       "    </tr>\n",
       "    <tr>\n",
       "      <th>8</th>\n",
       "      <td>130.514001</td>\n",
       "      <td>132.429993</td>\n",
       "      <td>138.050003</td>\n",
       "      <td>127.720001</td>\n",
       "      <td>132.513334</td>\n",
       "    </tr>\n",
       "    <tr>\n",
       "      <th>9</th>\n",
       "      <td>130.184000</td>\n",
       "      <td>129.190002</td>\n",
       "      <td>138.050003</td>\n",
       "      <td>127.720001</td>\n",
       "      <td>132.181001</td>\n",
       "    </tr>\n",
       "  </tbody>\n",
       "</table>\n",
       "</div>"
      ],
      "text/plain": [
       "   5 day moving         t+1         max         min        mean\n",
       "0           NaN  133.990005  133.990005  133.990005  133.990005\n",
       "1           NaN  138.050003  138.050003  133.990005  136.020004\n",
       "2           NaN  135.580002  138.050003  133.990005  135.873337\n",
       "3           NaN  134.080002  138.050003  133.990005  135.425003\n",
       "4           NaN  133.520004  138.050003  133.520004  135.044003\n",
       "5    135.044003  128.889999  138.050003  128.889999  134.018336\n",
       "6    134.024002  127.720001  138.050003  127.720001  133.118574\n",
       "7    131.958002  128.360001  138.050003  127.720001  132.523752\n",
       "8    130.514001  132.429993  138.050003  127.720001  132.513334\n",
       "9    130.184000  129.190002  138.050003  127.720001  132.181001"
      ]
     },
     "execution_count": 6,
     "metadata": {},
     "output_type": "execute_result"
    }
   ],
   "source": [
    "\n",
    "window = temps.expanding()\n",
    "\n",
    "df['max'] = window.max()\n",
    "df['min'] = window.min()\n",
    "df['mean'] = window.mean()\n",
    "\n",
    "df.head(10)\n"
   ]
  },
  {
   "cell_type": "markdown",
   "metadata": {},
   "source": [
    " # Feature generation with machine learning: case study of financial marketing with recommender systems"
   ]
  },
  {
   "cell_type": "markdown",
   "metadata": {},
   "source": [
    "In this part, we use a real-world dataset from Amazon.com.Inc. In total, this dataset includes 478,235 users and 266,414 items. The data is from http://jmcauley.ucsd.edu/data/amazon/."
   ]
  },
  {
   "cell_type": "code",
   "execution_count": 7,
   "metadata": {},
   "outputs": [],
   "source": [
    "import numpy as np\n",
    "import pandas as pd"
   ]
  },
  {
   "cell_type": "code",
   "execution_count": 8,
   "metadata": {},
   "outputs": [
    {
     "data": {
      "text/html": [
       "<div>\n",
       "<style scoped>\n",
       "    .dataframe tbody tr th:only-of-type {\n",
       "        vertical-align: middle;\n",
       "    }\n",
       "\n",
       "    .dataframe tbody tr th {\n",
       "        vertical-align: top;\n",
       "    }\n",
       "\n",
       "    .dataframe thead th {\n",
       "        text-align: right;\n",
       "    }\n",
       "</style>\n",
       "<table border=\"1\" class=\"dataframe\">\n",
       "  <thead>\n",
       "    <tr style=\"text-align: right;\">\n",
       "      <th></th>\n",
       "      <th>0</th>\n",
       "      <th>1</th>\n",
       "      <th>2</th>\n",
       "      <th>3</th>\n",
       "    </tr>\n",
       "  </thead>\n",
       "  <tbody>\n",
       "    <tr>\n",
       "      <th>0</th>\n",
       "      <td>A2EFCYXHNK06IS</td>\n",
       "      <td>5555991584</td>\n",
       "      <td>5.0</td>\n",
       "      <td>978480000</td>\n",
       "    </tr>\n",
       "    <tr>\n",
       "      <th>1</th>\n",
       "      <td>A1WR23ER5HMAA9</td>\n",
       "      <td>5555991584</td>\n",
       "      <td>5.0</td>\n",
       "      <td>953424000</td>\n",
       "    </tr>\n",
       "    <tr>\n",
       "      <th>2</th>\n",
       "      <td>A2IR4Q0GPAFJKW</td>\n",
       "      <td>5555991584</td>\n",
       "      <td>4.0</td>\n",
       "      <td>1393545600</td>\n",
       "    </tr>\n",
       "    <tr>\n",
       "      <th>3</th>\n",
       "      <td>A2V0KUVAB9HSYO</td>\n",
       "      <td>5555991584</td>\n",
       "      <td>4.0</td>\n",
       "      <td>966124800</td>\n",
       "    </tr>\n",
       "    <tr>\n",
       "      <th>4</th>\n",
       "      <td>A1J0GL9HCA7ELW</td>\n",
       "      <td>5555991584</td>\n",
       "      <td>5.0</td>\n",
       "      <td>1007683200</td>\n",
       "    </tr>\n",
       "  </tbody>\n",
       "</table>\n",
       "</div>"
      ],
      "text/plain": [
       "                0           1    2           3\n",
       "0  A2EFCYXHNK06IS  5555991584  5.0   978480000\n",
       "1  A1WR23ER5HMAA9  5555991584  5.0   953424000\n",
       "2  A2IR4Q0GPAFJKW  5555991584  4.0  1393545600\n",
       "3  A2V0KUVAB9HSYO  5555991584  4.0   966124800\n",
       "4  A1J0GL9HCA7ELW  5555991584  5.0  1007683200"
      ]
     },
     "execution_count": 8,
     "metadata": {},
     "output_type": "execute_result"
    }
   ],
   "source": [
    "# In this example, we only use 12,000 user-item pairs. But you can break this limitation by using the whole dataset.\n",
    "df=pd.read_csv('data/ratings_Digital_Music.csv',header=None, nrows=12000)\n",
    "df.head() #column order: user, items, ratings, timestamp"
   ]
  },
  {
   "cell_type": "code",
   "execution_count": 9,
   "metadata": {},
   "outputs": [
    {
     "data": {
      "text/plain": [
       "(12000, 4)"
      ]
     },
     "execution_count": 9,
     "metadata": {},
     "output_type": "execute_result"
    }
   ],
   "source": [
    "df.shape"
   ]
  },
  {
   "cell_type": "code",
   "execution_count": 10,
   "metadata": {},
   "outputs": [
    {
     "name": "stdout",
     "output_type": "stream",
     "text": [
      "9843 unique users\n",
      "561 unique items\n",
      "5 unique ratings\n"
     ]
    }
   ],
   "source": [
    "n_users = df[0].unique().shape[0]\n",
    "n_items = df[1].unique().shape[0]\n",
    "n_rating = df[2].unique().shape[0]\n",
    "\n",
    "print ('%i unique users' %n_users)\n",
    "print ('%i unique items' %n_items)\n",
    "print ('%i unique ratings' %n_rating)"
   ]
  },
  {
   "cell_type": "code",
   "execution_count": 11,
   "metadata": {},
   "outputs": [],
   "source": [
    "# generate user-item matrix\n",
    "ratings=df.pivot(index=0, columns=1, values=2)"
   ]
  },
  {
   "cell_type": "code",
   "execution_count": 12,
   "metadata": {},
   "outputs": [
    {
     "name": "stdout",
     "output_type": "stream",
     "text": [
      "[[0. 0. 0. ... 0. 0. 0.]\n",
      " [0. 0. 0. ... 0. 0. 0.]\n",
      " [0. 0. 0. ... 0. 0. 0.]\n",
      " ...\n",
      " [0. 0. 0. ... 0. 0. 0.]\n",
      " [0. 0. 0. ... 0. 0. 0.]\n",
      " [0. 0. 0. ... 0. 0. 0.]]\n"
     ]
    }
   ],
   "source": [
    "# fill NaN values with 0\n",
    "\n",
    "ratings=ratings.fillna(0).values\n",
    "\n",
    "print(ratings)"
   ]
  },
  {
   "cell_type": "code",
   "execution_count": 13,
   "metadata": {},
   "outputs": [
    {
     "name": "stdout",
     "output_type": "stream",
     "text": [
      "0.217315598207 %\n"
     ]
    }
   ],
   "source": [
    "# make a statistical analysis about the percetage of exsiting user-items ratings. From this statistics, we can see that \n",
    "# the vast majority of ratings are missing, which is our motivation to develop a recommender system to predict such missing values\n",
    "\n",
    "sparsity = float(len(ratings.nonzero()[0]))\n",
    "\n",
    "print(str(100*sparsity/(ratings.shape[0]*ratings.shape[1])) + \" %\")"
   ]
  },
  {
   "cell_type": "code",
   "execution_count": 14,
   "metadata": {},
   "outputs": [],
   "source": [
    "# This creats a validation dataset by selecting rows (user) that have 35 or more ratings, then randomly select 15 of those ratings\n",
    "#for validation set, but set those values to 0 in the training set.\n",
    "\n",
    "def train_test_split(ratings):\n",
    "    \n",
    "    validation = np.zeros(ratings.shape)\n",
    "    train = ratings.copy() #don't do train=ratings, otherwise, ratings becomes empty\n",
    "    \n",
    "    for user in np.arange(ratings.shape[0]):\n",
    "        if len(ratings[user,:].nonzero()[0])>=35:# 35 seems to be best, it depends on sparsity of your user-item matrix\n",
    "            val_ratings = np.random.choice(ratings[user, :].nonzero()[0], \n",
    "                                        size=15, #tweak this, 15 seems to be optimal\n",
    "                                        replace=False)\n",
    "            train[user, val_ratings] = 0\n",
    "            validation[user, val_ratings] = ratings[user, val_ratings]\n",
    "    print(validation.shape)\n",
    "    return train, validation"
   ]
  },
  {
   "cell_type": "code",
   "execution_count": 15,
   "metadata": {},
   "outputs": [
    {
     "name": "stdout",
     "output_type": "stream",
     "text": [
      "(9843L, 561L)\n"
     ]
    }
   ],
   "source": [
    "# split this dataset into train and test sets\n",
    "\n",
    "train, val = train_test_split(ratings)"
   ]
  },
  {
   "cell_type": "code",
   "execution_count": 16,
   "metadata": {},
   "outputs": [],
   "source": [
    "#P is latent user feature matrix\n",
    "#Q is latent item feature matrix\n",
    "# make a rating prediction given P and Q\n",
    "\n",
    "def prediction(P,Q):\n",
    "    return np.dot(P.T,Q)\n",
    "    "
   ]
  },
  {
   "cell_type": "code",
   "execution_count": 24,
   "metadata": {},
   "outputs": [],
   "source": [
    "lmbda = 0.4 # Regularization parameter\n",
    "k = 3 #tweak this parameter\n",
    "m, n = train.shape  # Number of users and items\n",
    "n_epochs = 30  # Number of epochs\n",
    "alpha=0.05  # Learning rate\n",
    "\n",
    "P = 3 * np.random.rand(k,m) # Latent user feature matrix\n",
    "Q = 3 * np.random.rand(k,n) # Latent movie feature matrix"
   ]
  },
  {
   "cell_type": "code",
   "execution_count": 25,
   "metadata": {},
   "outputs": [],
   "source": [
    "from sklearn.metrics import mean_squared_error\n",
    "from math import sqrt\n",
    "def rmse(prediction, ground_truth):\n",
    "    prediction = prediction[ground_truth.nonzero()].flatten() \n",
    "    ground_truth = ground_truth[ground_truth.nonzero()].flatten()\n",
    "    return sqrt(mean_squared_error(prediction, ground_truth))"
   ]
  },
  {
   "cell_type": "code",
   "execution_count": 32,
   "metadata": {},
   "outputs": [
    {
     "name": "stdout",
     "output_type": "stream",
     "text": [
      "[[0.79921692 0.82436425 0.84699491 ... 0.59317021 1.27416027 0.84872295]\n",
      " [3.80549746 4.39436079 3.62396741 ... 4.31092025 2.86076869 3.67278223]\n",
      " [4.67470597 5.26672802 4.54836881 ... 5.30181246 4.10379699 4.51956649]\n",
      " ...\n",
      " [5.23242708 5.88972048 5.10934156 ... 5.59451865 4.86547025 5.13579582]\n",
      " [4.25502932 4.69380133 4.22828496 ... 4.48562224 4.43629355 4.1976268 ]\n",
      " [4.69582402 5.33679242 4.5372352  ... 5.26749326 3.95550825 4.54984947]]\n",
      "[[0.80120943 0.8129841  0.84806044 ... 0.60456187 1.263766   0.84875831]\n",
      " [3.79388753 4.35299184 3.61527339 ... 4.2698062  2.86703104 3.6638038 ]\n",
      " [4.67034612 5.22753833 4.54420395 ... 5.26477207 4.10581697 4.51797712]\n",
      " ...\n",
      " [5.23186809 5.84273518 5.109254   ... 5.57261624 4.86259173 5.13564414]\n",
      " [4.2291038  4.62378694 4.20286308 ... 4.43983889 4.41110013 4.1732796 ]\n",
      " [4.6945515  5.29914675 4.53744882 ... 5.23486357 3.96538877 4.55102339]]\n",
      "[[0.80316199 0.80276812 0.8490918  ... 0.61547568 1.25380486 0.8488945 ]\n",
      " [3.78351506 4.31482352 3.60756721 ... 4.23166443 2.87378718 3.65581466]\n",
      " [4.66620478 5.19081502 4.54023543 ... 5.22969677 4.10783863 4.51639243]\n",
      " ...\n",
      " [5.23115156 5.79891198 5.10885742 ... 5.55181332 4.85951392 5.13524541]\n",
      " [4.20433608 4.55813434 4.17859191 ... 4.39660083 4.38723181 4.15002784]\n",
      " [4.69310927 5.26356958 4.53737293 ... 5.20375155 3.97476648 4.55182303]]\n",
      "[[0.80506194 0.79360171 0.85007592 ... 0.62591255 1.24423483 0.84910404]\n",
      " [3.77427763 4.27956087 3.60075775 ... 4.19626609 2.88096395 3.64873092]\n",
      " [4.66228515 5.15638024 4.53645982 ... 5.19648586 4.10986093 4.51483606]\n",
      " ...\n",
      " [5.23027408 5.75798138 5.10814804 ... 5.53201472 4.85620842 5.13459754]\n",
      " [4.18068323 4.49652105 4.15542364 ... 4.3557597  4.36461851 4.12783488]\n",
      " [4.69155778 5.22994931 4.53706659 ... 5.17411848 3.98369739 4.55232455]]\n",
      "[[0.80690618 0.78538942 0.85100925 ... 0.63588366 1.23502532 0.84937008]\n",
      " [3.7660781  4.24693888 3.59476257 ... 4.16340033 2.88849517 3.6424738 ]\n",
      " [4.65858518 5.12406806 4.53287156 ... 5.16504006 4.11188036 4.51332428]\n",
      " ...\n",
      " [5.22923459 5.71970212 5.10712867 ... 5.51313639 4.85265416 5.13370134]\n",
      " [4.15810155 4.43865169 4.1333116  ... 4.3171747  4.34319289 4.10666177]\n",
      " [4.68994753 5.19817987 4.53658302 ... 5.14592237 3.99223153 4.55259348]]\n",
      "[[0.80869807 0.77805048 0.85189472 ... 0.64540691 1.22615398 0.84968328]\n",
      " [3.75882482 4.21671944 3.58950678 ... 4.13287303 2.89632125 3.63696965]\n",
      " [4.65509908 5.09372445 4.52946361 ... 5.13526267 4.113892   4.51186767]\n",
      " ...\n",
      " [5.22803334 5.68385734 5.10580634 ... 5.49510348 4.84883587 5.13255948]\n",
      " [4.136547   4.38425542 4.1122101  ... 4.28071239 4.3228904  4.08646793]\n",
      " [4.68831973 5.16816025 4.5359691  ... 5.11911829 4.00041304 4.55268542]]\n",
      "[[0.81044484 0.77151528 0.85273923 ... 0.65450431 1.21760423 0.85003938]\n",
      " [3.75243161 4.18868849 3.58492211 ... 4.10450561 2.90438867 3.63214981]\n",
      " [4.65181838 5.06520701 4.52622786 ... 5.10706045 4.11589018 4.51047245]\n",
      " ...\n",
      " [5.22667106 5.65025148 5.10419062 ... 5.47784878 4.84474283 5.13117571]\n",
      " [4.11597548 4.33308373 4.09207427 ... 4.24624643 4.30364927 4.06721179]\n",
      " [4.68670723 5.13979413 4.53526524 ... 5.09365888 4.00828052 4.55264692]]\n",
      "[[0.8121558  0.76572278 0.85355185 ... 0.66319991 1.2093633  0.85043731]\n",
      " [3.74681783 4.1626535  3.58094616 ... 4.0781338  2.91264949 3.62795048]\n",
      " [4.64873286 5.03838443 4.52315552 ... 5.08034406 4.11786904 4.50914156]\n",
      " ...\n",
      " [5.22514855 5.61870752 5.10229247 ... 5.46131152 4.84036794 5.12955438]\n",
      " [4.09634313 4.28490841 4.07286015 ... 4.21365733 4.28541044 4.0488513 ]\n",
      " [4.6851354  5.11298963 4.53450558 ... 5.06949483 4.01586737 4.55251634]]\n",
      "[[0.81384087 0.76061841 0.8543424  ... 0.67151834 1.20142077 0.85087776]\n",
      " [3.74190832 4.13844116 3.57752175 ... 4.05360649 2.9210609  3.62431259]\n",
      " [4.6458311  5.01313583 4.52023742 ... 5.05502837 4.11982283 4.50787551]\n",
      " ...\n",
      " [5.22346631 5.58906476 5.10012333 ... 5.4454364  4.83570694 5.12770007]\n",
      " [4.07760653 4.23951971 4.05452474 ... 4.18283221 4.26811756 4.0313445 ]\n",
      " [4.68362309 5.08765913 4.53371837 ... 5.04657544 4.02320227 4.55232488]]\n",
      "[[0.81550966 0.75615263 0.85512058 ... 0.67948379 1.19376759 0.85136221]\n",
      " [3.73763328 4.11589532 3.57459647 ... 4.03078469 2.92958474 3.62118151]\n",
      " [4.64310104 4.98935009 4.51746427 ... 5.03103261 4.12174615 4.50667305]\n",
      " ...\n",
      " [5.2216245  5.56117692 5.09769465 ... 5.43017281 4.83075787 5.12561746]\n",
      " [4.05972293 4.19672465 4.03702611 ... 4.15366455 4.25171698 4.01464984]\n",
      " [4.68218357 5.0637191  4.53292652 ... 5.02484912 4.03030964 4.55209743]]\n",
      "[[0.81717081 0.75227983 0.85589524 ... 0.68711931 1.1863953  0.85189221]\n",
      " [3.73392817 4.09487516 3.57212221 ... 4.00954054 2.9381871  3.61850693]\n",
      " [4.64053034 4.96692506 4.51482682 ... 5.0082803  4.12363408 4.50553174]\n",
      " ...\n",
      " [5.21962286 5.53491048 5.09501746 ... 5.41547425 4.82552055 5.12331118]\n",
      " [4.04265043 4.15634554 4.02032348 ... 4.12605389 4.23615764 3.99872659]\n",
      " [4.68082538 5.04109003 4.53214812 ... 5.00426387 4.03721013 4.5518535 ]]\n",
      "[[0.81883162 0.74895756 0.85667409 ... 0.69444641 1.17929555 0.85246897]\n",
      " [3.73073354 4.07525354 3.57005483 ... 3.98975639 2.94683789 3.61624258]\n",
      " [4.63810662 4.9457669  4.512316   ... 4.98669928 4.12548223 4.50444828]\n",
      " ...\n",
      " [5.21746079 5.51014328 5.09210224 ... 5.40129783 4.81999633 5.12078577]\n",
      " [4.02634813 4.11821862 4.00437739 ... 4.09990563 4.2213911  3.98353509]\n",
      " [4.67955318 5.01969632 4.53139709 ... 4.98476772 4.04392106 4.55160801]]\n",
      "[[0.82049792 0.74614602 0.85746344 ... 0.70148484 1.17245987 0.85309305]\n",
      " [3.7279948  4.05691556 3.56835387 ... 3.97132393 2.95551053 3.61434607]\n",
      " [4.63581773 4.92578935 4.50992306 ... 4.96622148 4.12728678 4.5034189 ]\n",
      " ...\n",
      " [5.21513741 5.48676338 5.08895884 ... 5.38760392 4.81418773 5.11804571]\n",
      " [4.01077632 4.08219285 3.98914972 ... 4.07513069 4.20737139 3.96903693]\n",
      " [4.6783685  4.99946618 4.53068375 ... 4.96630917 4.05045692 4.55137205]]\n",
      "[[0.82217396 0.74380766 0.85826819 ... 0.70825254 1.16587949 0.8537643 ]\n",
      " [3.72566201 4.03975727 3.56698227 ... 3.95414348 2.96418157 3.61277861]\n",
      " [4.63365189 4.90691306 4.50763963 ... 4.94678283 4.12904447 4.50243956]\n",
      " ...\n",
      " [5.21265176 5.46466801 5.08559641 ... 5.37435582 4.80809833 5.11509545]\n",
      " [3.99589652 4.04812876 3.97460382 ... 4.05164531 4.19405498 3.95519516]\n",
      " [4.67727035 4.98033157 4.53001539 ... 4.94883748 4.05682972 4.55115358]]\n",
      "[[0.82386256 0.74190701 0.85909185 ... 0.71476567 1.1595453  0.85448181]\n",
      " [3.72368964 4.02368454 3.56590609 ... 3.93812321 2.97283042 3.61150484]\n",
      " [4.63159781 4.889065   4.50545777 ... 4.92832307 4.13075257 4.50150614]\n",
      " ...\n",
      " [5.21000284 5.44376267 5.08202353 ... 5.36151953 4.80173259 5.11193942]\n",
      " [3.98167169 4.01589751 3.96070452 ... 4.02937079 4.18140074 3.94197434]\n",
      " [4.67625586 4.96222807 4.52939674 ... 4.93230298 4.06304942 4.55095794]]\n",
      "[[0.82556524 0.74041048 0.8599367  ... 0.72103875 1.15344789 0.85524396]\n",
      " [3.7220363  4.00861198 3.56509436 ... 3.92317855 2.98143905 3.61049256]\n",
      " [4.6296448  4.8721779  4.50337    ... 4.91078552 4.13240884 4.50061457]\n",
      " ...\n",
      " [5.20718983 5.42396039 5.0782482  ... 5.3490636  4.79509576 5.10858215]\n",
      " [3.96806624 3.98537992 3.94741819 ... 4.00823318 4.16936978 3.92934062]\n",
      " [4.67532072 4.9450948  4.52883053 ... 4.91665734 4.06912421 4.55078846]]\n",
      "[[0.82728235 0.73928626 0.86080387 ... 0.72708475 1.14757764 0.85604855]\n",
      " [3.72066451 3.99446211 3.56451882 ... 3.90923156 2.98999175 3.60971257]\n",
      " [4.62778282 4.85618972 4.50136934 ... 4.89411695 4.13401152 4.4997609 ]\n",
      " ...\n",
      " [5.20421218 5.40518105 5.074278   ... 5.33695889 4.78819379 5.10502829]\n",
      " [3.9550461  3.9564657  3.93471274 ... 3.9881631  4.15792542 3.91726181]\n",
      " [4.67445967 4.9288743  4.5283178  ... 4.9018537  4.07506089 4.55064683]]\n",
      "[[0.82901331 0.73850432 0.86169359 ... 0.7329153  1.14192478 0.85689285]\n",
      " [3.7195404  3.98116451 3.56415374 ... 3.89621037 2.99847488 3.60913843]\n",
      " [4.62600252 4.84104316 4.49944928 ... 4.87826734 4.13555924 4.49894142]\n",
      " ...\n",
      " [5.20106973 5.38735082 5.07012016 ... 5.32517853 4.78103327 5.10128265]\n",
      " [3.9425788  3.92905269 3.92255761 ... 3.96909545 4.14703309 3.90570735]\n",
      " [4.67366679 4.91351241 4.52785831 ... 4.88784689 4.08086504 4.55053349]]\n",
      "[[0.83075677 0.73803631 0.86260527 ... 0.73854086 1.13647951 0.85777376]\n",
      " [3.71863348 3.96865511 3.56397574 ... 3.88404874 3.00687668 3.60874625]\n",
      " [4.62429529 4.82668528 4.49760379 ... 4.8631897  4.13705101 4.49815263]\n",
      " ...\n",
      " [5.19776283 5.37040163 5.06578165 ... 5.31369775 4.77362142 5.0973503 ]\n",
      " [3.9306335  3.90304617 3.91092379 ... 3.95096922 4.13666024 3.8946483 ]\n",
      " [4.67293584 4.89895814 4.52745083 ... 4.87459347 4.0865413  4.55044794]]\n"
     ]
    },
    {
     "name": "stdout",
     "output_type": "stream",
     "text": [
      "[[0.83251082 0.73785557 0.86353774 ... 0.74397087 1.13123209 0.85868794]\n",
      " [3.71791638 3.95687556 3.56396361 ... 3.87268553 3.01518705 3.60851449]\n",
      " [4.62265326 4.81306708 4.49582732 ... 4.84883992 4.13848619 4.49739135]\n",
      " ...\n",
      " [5.1942924  5.35427069 5.06126931 ... 5.30249379 4.76596603 5.09323658]\n",
      " [3.91918094 3.87835828 3.89978375 ... 3.93372721 4.12677624 3.88405735]\n",
      " [4.67226047 4.88516352 4.52709339 ... 4.86205183 4.09209355 4.55038902]]\n",
      "[[0.83427313 0.73793705 0.86448935 ... 0.74921388 1.12617294 0.85963185]\n",
      " [3.71736459 3.94577264 3.56409813 ... 3.86206433 3.02339743 3.60842381]\n",
      " [4.62106927 4.80014316 4.49411477 ... 4.83517657 4.13986441 4.49665465]\n",
      " ...\n",
      " [5.19066    5.33890015 5.05658987 ... 5.29154584 4.75807543 5.08894715]\n",
      " [3.90819348 3.85490746 3.88911142 ... 3.91731584 4.11735229 3.8739087 ]\n",
      " [4.6716344  4.87208351 4.52678352 ... 4.85018224 4.09752506 4.55035508]]\n",
      "[[0.8360411  0.73825729 0.86545813 ... 0.75427775 1.12129273 0.86060192]\n",
      " [3.71695624 3.93529776 3.56436194 ... 3.85213304 3.03150057 3.60845682]\n",
      " [4.61953688 4.78787142 4.49246144 ... 4.82216075 4.14118556 4.49593988]\n",
      " ...\n",
      " [5.18686788 5.32423667 5.05175011 ... 5.28083493 4.74995846 5.08448799]\n",
      " [3.89764509 3.83261791 3.87888214 ... 3.90168497 4.10836135 3.86417809]\n",
      " [4.67105157 4.85967582 4.52651837 ... 4.83894685 4.10283863 4.55034416]]\n",
      "[[0.83781198 0.73879442 0.86644188 ... 0.7591697  1.11658239 0.86159458]\n",
      " [3.71667184 3.92540652 3.56473938 ... 3.84284356 3.03949044 3.60859797]\n",
      " [4.61805036 4.77621276 4.49086306 ... 4.80975593 4.14244977 4.49524469]\n",
      " ...\n",
      " [5.18291899 5.31023112 5.04675683 ... 5.27034386 4.74162448 5.07986544]\n",
      " [3.88751128 3.81141918 3.86907263 ... 3.88678762 4.09977802 3.85484267]\n",
      " [4.67050625 4.84790075 4.5262949  ... 4.82830968 4.10803672 4.55035415]]\n",
      "[[0.83958299 0.73952801 0.8674383  ... 0.76389645 1.11203324 0.86260635]\n",
      " [3.71649413 3.91605829 3.56521633 ... 3.83415142 3.04736206 3.60883337]\n",
      " [4.6166046  4.76513083 4.48931571 ... 4.79792779 4.14365736 4.49456699]\n",
      " ...\n",
      " [5.178817   5.29683826 5.04161697 ... 5.2600571  4.73308328 5.07508621]\n",
      " [3.87776904 3.7912457  3.85966091 ... 3.87257987 4.09157849 3.84588099]\n",
      " [4.6699931  4.83672112 4.52610995 ... 4.81823662 4.1131215  4.55038284]]\n",
      "[[0.84135138 0.74043912 0.86844502 ... 0.76846428 1.10763697 0.86363387]\n",
      " [3.7164078  3.90721584 3.56578009 ... 3.82601552 3.05511141 3.60915062]\n",
      " [4.61519514 4.75459179 4.48781582 ... 4.78664411 4.1448088  4.49390493]\n",
      " ...\n",
      " [5.17456629 5.28401649 5.03633759 ... 5.24996074 4.72434506 5.07015734]\n",
      " [3.86839684 3.77203646 3.85062625 ... 3.8590206  4.08374041 3.83727289]\n",
      " [4.6695072  4.82610205 4.52596036 ... 4.80869535 4.11809496 4.55042805]]\n",
      "[[0.84311449 0.74151015 0.86945972 ... 0.77287913 1.10338567 0.86467395]\n",
      " [3.71639934 3.898845   3.56641925 ... 3.81839782 3.06273533 3.60953867]\n",
      " [4.6138181  4.74456415 4.48636016 ... 4.77587463 4.14590473 4.49325691]\n",
      " ...\n",
      " [5.17017188 5.27172755 5.0309259  ... 5.24004236 4.71542041 5.06508619]\n",
      " [3.85937455 3.75373459 3.84194911 ... 3.84607137 4.07624285 3.82899947]\n",
      " [4.66904411 4.81601089 4.52584302 ... 4.79965533 4.12295895 4.55048765]]\n",
      "[[0.84486981 0.74272485 0.8704801  ... 0.77714662 1.09927188 0.86572361]\n",
      " [3.7164569  3.89091441 3.56712359 ... 3.81126315 3.07023137 3.60998771]\n",
      " [4.61247013 4.73501851 4.48494577 ... 4.76559092 4.14694592 4.49262153]\n",
      " ...\n",
      " [5.16563946 5.25993632 5.02538929 ... 5.23029098 4.70632022 5.05988045]\n",
      " [3.85068332 3.7362871  3.83361111 ... 3.8336962  4.06906618 3.82104299]\n",
      " [4.66859986 4.80641705 4.52575492 ... 4.79108772 4.12771522 4.55055962]]\n",
      "[[0.846615   0.74406816 0.871504   ... 0.78127214 1.09528855 0.86678007]\n",
      " [3.71657003 3.88339524 3.56788394 ... 3.8045789  3.07759777 3.61048905]\n",
      " [4.61114835 4.72592744 4.48356995 ... 4.75576626 4.14793321 4.49199758]\n",
      " ...\n",
      " [5.16097527 5.24861052 5.0197353  ... 5.22069696 4.69705569 5.05454807]\n",
      " [3.8423056  3.71964455 3.82559491 ... 3.82186149 4.06219204 3.81338682]\n",
      " [4.66817095 4.79729189 4.52569317 ... 4.78296532 4.13236547 4.55064206]]\n",
      "[[0.8483479  0.74552624 0.87252938 ... 0.78526082 1.09142906 0.86784076]\n",
      " [3.71672962 3.87626091 3.56869211 ... 3.79831491 3.08483333 3.61103495]\n",
      " [4.60985037 4.71726534 4.48223028 ... 4.74637557 4.14886758 4.49138404]\n",
      " ...\n",
      " [5.15618606 5.23772058 5.01397162 ... 5.21125186 4.68763819 5.04909722]\n",
      " [3.83422498 3.7037608  3.81788421 ... 3.81053577 4.05560322 3.80601536]\n",
      " [4.6677543  4.78860858 4.52565507 ... 4.7752625  4.13691138 4.55073324]]\n",
      "[[0.85006658 0.74708632 0.8735543  ... 0.78911761 1.08768719 0.86890335]\n",
      " [3.71692774 3.86948696 3.5695408  ... 3.79244318 3.09193736 3.61161861]\n",
      " [4.60857415 4.70900822 4.48092452 ... 4.73739526 4.14975004 4.49078002]\n",
      " ...\n",
      " [5.15127905 5.22723936 5.00810604 ... 5.20194841 4.67807926 5.04353627]\n",
      " [3.82642619 3.68859277 3.81046369 ... 3.79968967 4.04928362 3.798914  ]\n",
      " [4.66734729 4.78034201 4.52563805 ... 4.76795514 4.14135461 4.55083155]]\n"
     ]
    }
   ],
   "source": [
    "train_errors = []\n",
    "val_errors = []\n",
    "# Gradient descent for optimisation\n",
    "# Only consider items with ratings \n",
    "users,items = train.nonzero()      \n",
    "for epoch in range(n_epochs):\n",
    "    for u, i in zip(users,items):\n",
    "        e = train[u, i] - prediction(P[:,u],Q[:,i])  # Calculate error for gradient update\n",
    "        P[:,u] += alpha * ( e * Q[:,i] - lmbda * P[:,u]) # Update latent user feature matrix\n",
    "        Q[:,i] += alpha * ( e * P[:,u] - lmbda * Q[:,i])  # Update latent item feature matrix\n",
    "    \n",
    "    train_rmse = rmse(prediction(P,Q),train)\n",
    "    val_rmse = rmse(prediction(P,Q),val) \n",
    "    train_errors.append(train_rmse)\n",
    "    val_errors.append(val_rmse)"
   ]
  },
  {
   "cell_type": "code",
   "execution_count": 28,
   "metadata": {},
   "outputs": [
    {
     "data": {
      "image/png": "[encoded data removed]",
      "text/plain": [
       "<Figure size 432x288 with 1 Axes>"
      ]
     },
     "metadata": {
      "needs_background": "light"
     },
     "output_type": "display_data"
    }
   ],
   "source": [
    "import matplotlib.pyplot as plt\n",
    "%matplotlib inline\n",
    "\n",
    "plt.plot(range(n_epochs), train_errors, marker='o', label='Training Data');\n",
    "plt.plot(range(n_epochs), val_errors, marker='v', label='Validation Data');\n",
    "plt.xlabel('Number of Epochs');\n",
    "plt.ylabel('RMSE');\n",
    "plt.legend()\n",
    "plt.grid()\n",
    "plt.show()"
   ]
  },
  {
   "cell_type": "markdown",
   "metadata": {},
   "source": [
    "### Take a look at prediction vs. actual ratings"
   ]
  },
  {
   "cell_type": "code",
   "execution_count": 29,
   "metadata": {},
   "outputs": [],
   "source": [
    "SGD_prediction=prediction(P,Q)"
   ]
  },
  {
   "cell_type": "code",
   "execution_count": 30,
   "metadata": {},
   "outputs": [],
   "source": [
    "estimation= SGD_prediction[val.nonzero()]\n",
    "ground_truth = val[val.nonzero()]\n",
    "results=pd.DataFrame({'prediction':estimation, 'actual rating':ground_truth})"
   ]
  },
  {
   "cell_type": "code",
   "execution_count": 31,
   "metadata": {},
   "outputs": [
    {
     "data": {
      "text/html": [
       "<div>\n",
       "<style scoped>\n",
       "    .dataframe tbody tr th:only-of-type {\n",
       "        vertical-align: middle;\n",
       "    }\n",
       "\n",
       "    .dataframe tbody tr th {\n",
       "        vertical-align: top;\n",
       "    }\n",
       "\n",
       "    .dataframe thead th {\n",
       "        text-align: right;\n",
       "    }\n",
       "</style>\n",
       "<table border=\"1\" class=\"dataframe\">\n",
       "  <thead>\n",
       "    <tr style=\"text-align: right;\">\n",
       "      <th></th>\n",
       "      <th>actual rating</th>\n",
       "      <th>prediction</th>\n",
       "    </tr>\n",
       "  </thead>\n",
       "  <tbody>\n",
       "    <tr>\n",
       "      <th>0</th>\n",
       "      <td>5.0</td>\n",
       "      <td>3.866720</td>\n",
       "    </tr>\n",
       "    <tr>\n",
       "      <th>1</th>\n",
       "      <td>5.0</td>\n",
       "      <td>3.158955</td>\n",
       "    </tr>\n",
       "    <tr>\n",
       "      <th>2</th>\n",
       "      <td>4.0</td>\n",
       "      <td>3.884421</td>\n",
       "    </tr>\n",
       "    <tr>\n",
       "      <th>3</th>\n",
       "      <td>5.0</td>\n",
       "      <td>3.796777</td>\n",
       "    </tr>\n",
       "    <tr>\n",
       "      <th>4</th>\n",
       "      <td>5.0</td>\n",
       "      <td>3.663012</td>\n",
       "    </tr>\n",
       "  </tbody>\n",
       "</table>\n",
       "</div>"
      ],
      "text/plain": [
       "   actual rating  prediction\n",
       "0            5.0    3.866720\n",
       "1            5.0    3.158955\n",
       "2            4.0    3.884421\n",
       "3            5.0    3.796777\n",
       "4            5.0    3.663012"
      ]
     },
     "execution_count": 31,
     "metadata": {},
     "output_type": "execute_result"
    }
   ],
   "source": [
    "results.head()"
   ]
  },
  {
   "cell_type": "code",
   "execution_count": null,
   "metadata": {},
   "outputs": [],
   "source": []
  }
 ],
 "metadata": {
  "anaconda-cloud": {},
  "kernelspec": {
   "display_name": "Python 2",
   "language": "python",
   "name": "python2"
  },
  "language_info": {
   "codemirror_mode": {
    "name": "ipython",
    "version": 2
   },
   "file_extension": ".py",
   "mimetype": "text/x-python",
   "name": "python",
   "nbconvert_exporter": "python",
   "pygments_lexer": "ipython2",
   "version": "2.7.16"
  }
 },
 "nbformat": 4,
 "nbformat_minor": 1
}
